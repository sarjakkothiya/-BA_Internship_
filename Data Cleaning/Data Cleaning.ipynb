{
 "cells": [
  {
   "cell_type": "markdown",
   "id": "e00b5383-b915-4a16-8ed0-476f979052b7",
   "metadata": {},
   "source": [
    "## Cleaning the DATA befor Analysing"
   ]
  },
  {
   "cell_type": "code",
   "execution_count": 1,
   "id": "69c14a0d-d637-4b7e-8714-31fb531b4954",
   "metadata": {},
   "outputs": [],
   "source": [
    "import pandas as pd\n",
    "import matplotlib.pyplot as plt\n",
    "import seaborn as sns\n",
    "import os\n",
    "import re"
   ]
  },
  {
   "cell_type": "code",
   "execution_count": 2,
   "id": "f8d2c0ab",
   "metadata": {},
   "outputs": [
    {
     "name": "stderr",
     "output_type": "stream",
     "text": [
      "[nltk_data] Downloading package wordnet to\n",
      "[nltk_data]     C:\\Users\\admin\\AppData\\Roaming\\nltk_data...\n",
      "[nltk_data]   Package wordnet is already up-to-date!\n",
      "[nltk_data] Downloading package stopwords to\n",
      "[nltk_data]     C:\\Users\\admin\\AppData\\Roaming\\nltk_data...\n",
      "[nltk_data]   Package stopwords is already up-to-date!\n",
      "[nltk_data] Downloading package omw-1.4 to\n",
      "[nltk_data]     C:\\Users\\admin\\AppData\\Roaming\\nltk_data...\n",
      "[nltk_data]   Package omw-1.4 is already up-to-date!\n"
     ]
    },
    {
     "data": {
      "text/plain": [
       "True"
      ]
     },
     "execution_count": 2,
     "metadata": {},
     "output_type": "execute_result"
    }
   ],
   "source": [
    "import nltk\n",
    "nltk.download('wordnet')\n",
    "nltk.download('stopwords')\n",
    "nltk.download('omw-1.4')"
   ]
  },
  {
   "cell_type": "code",
   "execution_count": 3,
   "id": "c46b06dc-b9f5-4b9f-b52b-7f9b01ff7200",
   "metadata": {},
   "outputs": [],
   "source": [
    "cwd = os.getcwd()\n",
    "df = pd.read_csv(cwd+\"/British_Airways_reviews.csv\", index_col=0)"
   ]
  },
  {
   "cell_type": "code",
   "execution_count": 4,
   "id": "888d1113-bafd-4e6c-a020-c0e7b721ce50",
   "metadata": {},
   "outputs": [
    {
     "data": {
      "text/html": [
       "<div>\n",
       "<style scoped>\n",
       "    .dataframe tbody tr th:only-of-type {\n",
       "        vertical-align: middle;\n",
       "    }\n",
       "\n",
       "    .dataframe tbody tr th {\n",
       "        vertical-align: top;\n",
       "    }\n",
       "\n",
       "    .dataframe thead th {\n",
       "        text-align: right;\n",
       "    }\n",
       "</style>\n",
       "<table border=\"1\" class=\"dataframe\">\n",
       "  <thead>\n",
       "    <tr style=\"text-align: right;\">\n",
       "      <th></th>\n",
       "      <th>reviews</th>\n",
       "      <th>stars</th>\n",
       "      <th>date</th>\n",
       "      <th>country</th>\n",
       "    </tr>\n",
       "  </thead>\n",
       "  <tbody>\n",
       "    <tr>\n",
       "      <th>0</th>\n",
       "      <td>Not Verified | Before my flight, I was forced ...</td>\n",
       "      <td>5</td>\n",
       "      <td>15th August 2024</td>\n",
       "      <td>United Kingdom</td>\n",
       "    </tr>\n",
       "    <tr>\n",
       "      <th>1</th>\n",
       "      <td>✅ Trip Verified |   British Airways at its bes...</td>\n",
       "      <td>1</td>\n",
       "      <td>12th August 2024</td>\n",
       "      <td>United Kingdom</td>\n",
       "    </tr>\n",
       "    <tr>\n",
       "      <th>2</th>\n",
       "      <td>✅ Trip Verified | An excellent flight! Despite...</td>\n",
       "      <td>8</td>\n",
       "      <td>12th August 2024</td>\n",
       "      <td>Lebanon</td>\n",
       "    </tr>\n",
       "    <tr>\n",
       "      <th>3</th>\n",
       "      <td>✅ Trip Verified | I recently traveled with Bri...</td>\n",
       "      <td>8</td>\n",
       "      <td>11th August 2024</td>\n",
       "      <td>United States</td>\n",
       "    </tr>\n",
       "    <tr>\n",
       "      <th>4</th>\n",
       "      <td>✅ Trip Verified |   My family and I were booke...</td>\n",
       "      <td>3</td>\n",
       "      <td>9th August 2024</td>\n",
       "      <td>United Kingdom</td>\n",
       "    </tr>\n",
       "  </tbody>\n",
       "</table>\n",
       "</div>"
      ],
      "text/plain": [
       "                                             reviews  stars              date  \\\n",
       "0  Not Verified | Before my flight, I was forced ...      5  15th August 2024   \n",
       "1  ✅ Trip Verified |   British Airways at its bes...      1  12th August 2024   \n",
       "2  ✅ Trip Verified | An excellent flight! Despite...      8  12th August 2024   \n",
       "3  ✅ Trip Verified | I recently traveled with Bri...      8  11th August 2024   \n",
       "4  ✅ Trip Verified |   My family and I were booke...      3   9th August 2024   \n",
       "\n",
       "          country  \n",
       "0  United Kingdom  \n",
       "1  United Kingdom  \n",
       "2         Lebanon  \n",
       "3   United States  \n",
       "4  United Kingdom  "
      ]
     },
     "execution_count": 4,
     "metadata": {},
     "output_type": "execute_result"
    }
   ],
   "source": [
    "df.head()"
   ]
  },
  {
   "cell_type": "code",
   "execution_count": 5,
   "id": "45908798-e042-4d71-8e01-395f53f2005d",
   "metadata": {},
   "outputs": [],
   "source": [
    "df['verified'] = df.reviews.str.contains(\"Trip Verified\")"
   ]
  },
  {
   "cell_type": "code",
   "execution_count": 6,
   "id": "ae4e6e23-4ecc-4c94-8526-5f645ff2f6a2",
   "metadata": {},
   "outputs": [
    {
     "data": {
      "text/plain": [
       "0       False\n",
       "1        True\n",
       "2        True\n",
       "3        True\n",
       "4        True\n",
       "        ...  \n",
       "3835    False\n",
       "3836     True\n",
       "3837     True\n",
       "3838     True\n",
       "3839    False\n",
       "Name: verified, Length: 3840, dtype: bool"
      ]
     },
     "execution_count": 6,
     "metadata": {},
     "output_type": "execute_result"
    }
   ],
   "source": [
    "df['verified']"
   ]
  },
  {
   "cell_type": "code",
   "execution_count": 7,
   "id": "e4319089-b957-4b60-8f07-fc8cd3487f9e",
   "metadata": {},
   "outputs": [],
   "source": [
    "from nltk.stem import WordNetLemmatizer\n",
    "from nltk.corpus import stopwords\n",
    "lemma = WordNetLemmatizer()\n",
    "reviews_data = df.reviews.str.strip(\"✅ Trip Verified |\")\n",
    "corpus =[]\n",
    "for rev in reviews_data:\n",
    "    rev = re.sub('[^a-zA-Z]',' ', rev)\n",
    "    rev = rev.lower()\n",
    "    rev = rev.split()\n",
    "    rev = [lemma.lemmatize(word) for word in rev if word not in set(stopwords.words(\"english\"))]\n",
    "    rev = \" \".join(rev)\n",
    "    corpus.append(rev)"
   ]
  },
  {
   "cell_type": "code",
   "execution_count": 8,
   "id": "835b9930-20e0-4d79-8a88-a5737309b4ce",
   "metadata": {},
   "outputs": [],
   "source": [
    "df['corpus'] = corpus"
   ]
  },
  {
   "cell_type": "code",
   "execution_count": 9,
   "id": "baa16beb-4ac5-4850-a46a-0ae11d64cf3d",
   "metadata": {},
   "outputs": [
    {
     "data": {
      "text/html": [
       "<div>\n",
       "<style scoped>\n",
       "    .dataframe tbody tr th:only-of-type {\n",
       "        vertical-align: middle;\n",
       "    }\n",
       "\n",
       "    .dataframe tbody tr th {\n",
       "        vertical-align: top;\n",
       "    }\n",
       "\n",
       "    .dataframe thead th {\n",
       "        text-align: right;\n",
       "    }\n",
       "</style>\n",
       "<table border=\"1\" class=\"dataframe\">\n",
       "  <thead>\n",
       "    <tr style=\"text-align: right;\">\n",
       "      <th></th>\n",
       "      <th>reviews</th>\n",
       "      <th>stars</th>\n",
       "      <th>date</th>\n",
       "      <th>country</th>\n",
       "      <th>verified</th>\n",
       "      <th>corpus</th>\n",
       "    </tr>\n",
       "  </thead>\n",
       "  <tbody>\n",
       "    <tr>\n",
       "      <th>0</th>\n",
       "      <td>Not Verified | Before my flight, I was forced ...</td>\n",
       "      <td>5</td>\n",
       "      <td>15th August 2024</td>\n",
       "      <td>United Kingdom</td>\n",
       "      <td>False</td>\n",
       "      <td>verified flight forced ground staff check new ...</td>\n",
       "    </tr>\n",
       "    <tr>\n",
       "      <th>1</th>\n",
       "      <td>✅ Trip Verified |   British Airways at its bes...</td>\n",
       "      <td>1</td>\n",
       "      <td>12th August 2024</td>\n",
       "      <td>United Kingdom</td>\n",
       "      <td>True</td>\n",
       "      <td>british airway best outstanding service flight...</td>\n",
       "    </tr>\n",
       "    <tr>\n",
       "      <th>2</th>\n",
       "      <td>✅ Trip Verified | An excellent flight! Despite...</td>\n",
       "      <td>8</td>\n",
       "      <td>12th August 2024</td>\n",
       "      <td>Lebanon</td>\n",
       "      <td>True</td>\n",
       "      <td>excellent flight despite hour flight configure...</td>\n",
       "    </tr>\n",
       "    <tr>\n",
       "      <th>3</th>\n",
       "      <td>✅ Trip Verified | I recently traveled with Bri...</td>\n",
       "      <td>8</td>\n",
       "      <td>11th August 2024</td>\n",
       "      <td>United States</td>\n",
       "      <td>True</td>\n",
       "      <td>recently traveled british airway mixed experie...</td>\n",
       "    </tr>\n",
       "    <tr>\n",
       "      <th>4</th>\n",
       "      <td>✅ Trip Verified |   My family and I were booke...</td>\n",
       "      <td>3</td>\n",
       "      <td>9th August 2024</td>\n",
       "      <td>United Kingdom</td>\n",
       "      <td>True</td>\n",
       "      <td>family booked leave london hong kong august ma...</td>\n",
       "    </tr>\n",
       "  </tbody>\n",
       "</table>\n",
       "</div>"
      ],
      "text/plain": [
       "                                             reviews  stars              date  \\\n",
       "0  Not Verified | Before my flight, I was forced ...      5  15th August 2024   \n",
       "1  ✅ Trip Verified |   British Airways at its bes...      1  12th August 2024   \n",
       "2  ✅ Trip Verified | An excellent flight! Despite...      8  12th August 2024   \n",
       "3  ✅ Trip Verified | I recently traveled with Bri...      8  11th August 2024   \n",
       "4  ✅ Trip Verified |   My family and I were booke...      3   9th August 2024   \n",
       "\n",
       "          country  verified                                             corpus  \n",
       "0  United Kingdom     False  verified flight forced ground staff check new ...  \n",
       "1  United Kingdom      True  british airway best outstanding service flight...  \n",
       "2         Lebanon      True  excellent flight despite hour flight configure...  \n",
       "3   United States      True  recently traveled british airway mixed experie...  \n",
       "4  United Kingdom      True  family booked leave london hong kong august ma...  "
      ]
     },
     "execution_count": 9,
     "metadata": {},
     "output_type": "execute_result"
    }
   ],
   "source": [
    "df.head()"
   ]
  },
  {
   "cell_type": "code",
   "execution_count": 10,
   "id": "33f1a718-af12-4fa4-85ae-f5511e8986ae",
   "metadata": {},
   "outputs": [
    {
     "data": {
      "text/plain": [
       "reviews     object\n",
       "stars        int64\n",
       "date        object\n",
       "country     object\n",
       "verified      bool\n",
       "corpus      object\n",
       "dtype: object"
      ]
     },
     "execution_count": 10,
     "metadata": {},
     "output_type": "execute_result"
    }
   ],
   "source": [
    "df.dtypes"
   ]
  },
  {
   "cell_type": "code",
   "execution_count": 11,
   "id": "c773fca4-23ee-4f7d-a1db-8da648ddb161",
   "metadata": {},
   "outputs": [],
   "source": [
    "df.date = pd.to_datetime(df.date)"
   ]
  },
  {
   "cell_type": "code",
   "execution_count": 12,
   "id": "0440c89e-9a89-4ef4-888f-eb25ad833afb",
   "metadata": {},
   "outputs": [
    {
     "data": {
      "text/plain": [
       "0   2024-08-15\n",
       "1   2024-08-12\n",
       "2   2024-08-12\n",
       "3   2024-08-11\n",
       "4   2024-08-09\n",
       "Name: date, dtype: datetime64[ns]"
      ]
     },
     "execution_count": 12,
     "metadata": {},
     "output_type": "execute_result"
    }
   ],
   "source": [
    "df.date.head()"
   ]
  },
  {
   "cell_type": "code",
   "execution_count": 13,
   "id": "4f535799-1f5a-43d2-a858-5639f35b073c",
   "metadata": {},
   "outputs": [
    {
     "data": {
      "text/plain": [
       "array([ 5,  1,  8,  3,  2, 10], dtype=int64)"
      ]
     },
     "execution_count": 13,
     "metadata": {},
     "output_type": "execute_result"
    }
   ],
   "source": [
    "df.stars.unique()"
   ]
  },
  {
   "cell_type": "code",
   "execution_count": 14,
   "id": "5664b1c3-17d3-4f54-8799-388443a6242d",
   "metadata": {},
   "outputs": [],
   "source": [
    "df['stars'] = df['stars'].astype(str).str.strip(\"\\n\\t\\t\\t\\t\\t\\t\\t\\t\\t\\t\\t\\t\\t\")"
   ]
  },
  {
   "cell_type": "code",
   "execution_count": 15,
   "id": "9cbfaa06-b519-4ce1-bb50-420692a923d6",
   "metadata": {},
   "outputs": [
    {
     "data": {
      "text/plain": [
       "1     1047\n",
       "8     1047\n",
       "2      698\n",
       "5      350\n",
       "3      349\n",
       "10     349\n",
       "Name: stars, dtype: int64"
      ]
     },
     "execution_count": 15,
     "metadata": {},
     "output_type": "execute_result"
    }
   ],
   "source": [
    "df.stars.value_counts()"
   ]
  },
  {
   "cell_type": "code",
   "execution_count": 16,
   "id": "e5d3e147-b454-4515-8b14-54e4ec756b1c",
   "metadata": {},
   "outputs": [],
   "source": [
    "df.drop(df[df.stars == \"None\"].index, axis=0, inplace=True)"
   ]
  },
  {
   "cell_type": "code",
   "execution_count": 17,
   "id": "e152aed3-2da4-4ee9-90dc-d2bd3553d870",
   "metadata": {},
   "outputs": [
    {
     "data": {
      "text/plain": [
       "array(['5', '1', '8', '3', '2', '10'], dtype=object)"
      ]
     },
     "execution_count": 17,
     "metadata": {},
     "output_type": "execute_result"
    }
   ],
   "source": [
    "df.stars.unique()"
   ]
  },
  {
   "cell_type": "code",
   "execution_count": 18,
   "id": "e81950f2-0cb3-4c1a-9859-233f4c3304d7",
   "metadata": {},
   "outputs": [
    {
     "data": {
      "text/plain": [
       "reviews  stars  date   country  verified  corpus\n",
       "False    False  False  False    False     False     3840\n",
       "dtype: int64"
      ]
     },
     "execution_count": 18,
     "metadata": {},
     "output_type": "execute_result"
    }
   ],
   "source": [
    "df.isnull().value_counts()"
   ]
  },
  {
   "cell_type": "code",
   "execution_count": 19,
   "id": "7c53f6a8-3f14-4711-a11a-a99f72015431",
   "metadata": {},
   "outputs": [
    {
     "data": {
      "text/plain": [
       "False    3840\n",
       "Name: country, dtype: int64"
      ]
     },
     "execution_count": 19,
     "metadata": {},
     "output_type": "execute_result"
    }
   ],
   "source": [
    "df.country.isnull().value_counts()"
   ]
  },
  {
   "cell_type": "code",
   "execution_count": 20,
   "id": "98b5b16a-c25d-475b-8894-e680323195eb",
   "metadata": {},
   "outputs": [],
   "source": [
    "df.drop(df[df.country.isnull() == True].index, axis=0, inplace=True)"
   ]
  },
  {
   "cell_type": "code",
   "execution_count": 21,
   "id": "116656f9-0f7a-4d79-8f69-7f4fbf711eca",
   "metadata": {},
   "outputs": [
    {
     "data": {
      "text/plain": [
       "(3840, 6)"
      ]
     },
     "execution_count": 21,
     "metadata": {},
     "output_type": "execute_result"
    }
   ],
   "source": [
    "df.shape"
   ]
  },
  {
   "cell_type": "code",
   "execution_count": 22,
   "id": "54a2b64d-4730-44f3-b40c-409d098f78f9",
   "metadata": {},
   "outputs": [
    {
     "data": {
      "text/html": [
       "<div>\n",
       "<style scoped>\n",
       "    .dataframe tbody tr th:only-of-type {\n",
       "        vertical-align: middle;\n",
       "    }\n",
       "\n",
       "    .dataframe tbody tr th {\n",
       "        vertical-align: top;\n",
       "    }\n",
       "\n",
       "    .dataframe thead th {\n",
       "        text-align: right;\n",
       "    }\n",
       "</style>\n",
       "<table border=\"1\" class=\"dataframe\">\n",
       "  <thead>\n",
       "    <tr style=\"text-align: right;\">\n",
       "      <th></th>\n",
       "      <th>reviews</th>\n",
       "      <th>stars</th>\n",
       "      <th>date</th>\n",
       "      <th>country</th>\n",
       "      <th>verified</th>\n",
       "      <th>corpus</th>\n",
       "    </tr>\n",
       "  </thead>\n",
       "  <tbody>\n",
       "    <tr>\n",
       "      <th>0</th>\n",
       "      <td>Not Verified | Before my flight, I was forced ...</td>\n",
       "      <td>5</td>\n",
       "      <td>2024-08-15</td>\n",
       "      <td>United Kingdom</td>\n",
       "      <td>False</td>\n",
       "      <td>verified flight forced ground staff check new ...</td>\n",
       "    </tr>\n",
       "    <tr>\n",
       "      <th>1</th>\n",
       "      <td>✅ Trip Verified |   British Airways at its bes...</td>\n",
       "      <td>1</td>\n",
       "      <td>2024-08-12</td>\n",
       "      <td>United Kingdom</td>\n",
       "      <td>True</td>\n",
       "      <td>british airway best outstanding service flight...</td>\n",
       "    </tr>\n",
       "    <tr>\n",
       "      <th>2</th>\n",
       "      <td>✅ Trip Verified | An excellent flight! Despite...</td>\n",
       "      <td>8</td>\n",
       "      <td>2024-08-12</td>\n",
       "      <td>Lebanon</td>\n",
       "      <td>True</td>\n",
       "      <td>excellent flight despite hour flight configure...</td>\n",
       "    </tr>\n",
       "    <tr>\n",
       "      <th>3</th>\n",
       "      <td>✅ Trip Verified | I recently traveled with Bri...</td>\n",
       "      <td>8</td>\n",
       "      <td>2024-08-11</td>\n",
       "      <td>United States</td>\n",
       "      <td>True</td>\n",
       "      <td>recently traveled british airway mixed experie...</td>\n",
       "    </tr>\n",
       "    <tr>\n",
       "      <th>4</th>\n",
       "      <td>✅ Trip Verified |   My family and I were booke...</td>\n",
       "      <td>3</td>\n",
       "      <td>2024-08-09</td>\n",
       "      <td>United Kingdom</td>\n",
       "      <td>True</td>\n",
       "      <td>family booked leave london hong kong august ma...</td>\n",
       "    </tr>\n",
       "    <tr>\n",
       "      <th>...</th>\n",
       "      <td>...</td>\n",
       "      <td>...</td>\n",
       "      <td>...</td>\n",
       "      <td>...</td>\n",
       "      <td>...</td>\n",
       "      <td>...</td>\n",
       "    </tr>\n",
       "    <tr>\n",
       "      <th>3835</th>\n",
       "      <td>Not Verified |  We had to change from AA to BA...</td>\n",
       "      <td>2</td>\n",
       "      <td>2024-08-08</td>\n",
       "      <td>United States</td>\n",
       "      <td>False</td>\n",
       "      <td>verified change aa ba flight london missed con...</td>\n",
       "    </tr>\n",
       "    <tr>\n",
       "      <th>3836</th>\n",
       "      <td>✅ Trip Verified | After paying $6500 for ticke...</td>\n",
       "      <td>8</td>\n",
       "      <td>2024-08-08</td>\n",
       "      <td>United States</td>\n",
       "      <td>True</td>\n",
       "      <td>paying ticket family including pay sit togethe...</td>\n",
       "    </tr>\n",
       "    <tr>\n",
       "      <th>3837</th>\n",
       "      <td>✅ Trip Verified | An excellent flight on BA Ci...</td>\n",
       "      <td>10</td>\n",
       "      <td>2024-08-07</td>\n",
       "      <td>Lebanon</td>\n",
       "      <td>True</td>\n",
       "      <td>excellent flight ba cityflyer plane clean comf...</td>\n",
       "    </tr>\n",
       "    <tr>\n",
       "      <th>3838</th>\n",
       "      <td>✅ Trip Verified |   Crew were amazing and atte...</td>\n",
       "      <td>1</td>\n",
       "      <td>2024-08-07</td>\n",
       "      <td>United Kingdom</td>\n",
       "      <td>True</td>\n",
       "      <td>crew amazing attentive nothing missed definite...</td>\n",
       "    </tr>\n",
       "    <tr>\n",
       "      <th>3839</th>\n",
       "      <td>Not Verified |  I flew internationally for the...</td>\n",
       "      <td>5</td>\n",
       "      <td>2024-08-05</td>\n",
       "      <td>United States</td>\n",
       "      <td>False</td>\n",
       "      <td>verified flew internationally first time life ...</td>\n",
       "    </tr>\n",
       "  </tbody>\n",
       "</table>\n",
       "<p>3840 rows × 6 columns</p>\n",
       "</div>"
      ],
      "text/plain": [
       "                                                reviews stars       date  \\\n",
       "0     Not Verified | Before my flight, I was forced ...     5 2024-08-15   \n",
       "1     ✅ Trip Verified |   British Airways at its bes...     1 2024-08-12   \n",
       "2     ✅ Trip Verified | An excellent flight! Despite...     8 2024-08-12   \n",
       "3     ✅ Trip Verified | I recently traveled with Bri...     8 2024-08-11   \n",
       "4     ✅ Trip Verified |   My family and I were booke...     3 2024-08-09   \n",
       "...                                                 ...   ...        ...   \n",
       "3835  Not Verified |  We had to change from AA to BA...     2 2024-08-08   \n",
       "3836  ✅ Trip Verified | After paying $6500 for ticke...     8 2024-08-08   \n",
       "3837  ✅ Trip Verified | An excellent flight on BA Ci...    10 2024-08-07   \n",
       "3838  ✅ Trip Verified |   Crew were amazing and atte...     1 2024-08-07   \n",
       "3839  Not Verified |  I flew internationally for the...     5 2024-08-05   \n",
       "\n",
       "             country  verified  \\\n",
       "0     United Kingdom     False   \n",
       "1     United Kingdom      True   \n",
       "2            Lebanon      True   \n",
       "3      United States      True   \n",
       "4     United Kingdom      True   \n",
       "...              ...       ...   \n",
       "3835   United States     False   \n",
       "3836   United States      True   \n",
       "3837         Lebanon      True   \n",
       "3838  United Kingdom      True   \n",
       "3839   United States     False   \n",
       "\n",
       "                                                 corpus  \n",
       "0     verified flight forced ground staff check new ...  \n",
       "1     british airway best outstanding service flight...  \n",
       "2     excellent flight despite hour flight configure...  \n",
       "3     recently traveled british airway mixed experie...  \n",
       "4     family booked leave london hong kong august ma...  \n",
       "...                                                 ...  \n",
       "3835  verified change aa ba flight london missed con...  \n",
       "3836  paying ticket family including pay sit togethe...  \n",
       "3837  excellent flight ba cityflyer plane clean comf...  \n",
       "3838  crew amazing attentive nothing missed definite...  \n",
       "3839  verified flew internationally first time life ...  \n",
       "\n",
       "[3840 rows x 6 columns]"
      ]
     },
     "execution_count": 22,
     "metadata": {},
     "output_type": "execute_result"
    }
   ],
   "source": [
    "df.reset_index(drop=True)"
   ]
  },
  {
   "cell_type": "code",
   "execution_count": 23,
   "id": "d9f0183c-e72a-4028-9c9a-1f3dee87c342",
   "metadata": {},
   "outputs": [],
   "source": [
    "df.to_csv(cwd + \"/British_Airways_cleaned_reviews.csv\")"
   ]
  }
 ],
 "metadata": {
  "kernelspec": {
   "display_name": "Python 3 (ipykernel)",
   "language": "python",
   "name": "python3"
  },
  "language_info": {
   "codemirror_mode": {
    "name": "ipython",
    "version": 3
   },
   "file_extension": ".py",
   "mimetype": "text/x-python",
   "name": "python",
   "nbconvert_exporter": "python",
   "pygments_lexer": "ipython3",
   "version": "3.11.4"
  }
 },
 "nbformat": 4,
 "nbformat_minor": 5
}
